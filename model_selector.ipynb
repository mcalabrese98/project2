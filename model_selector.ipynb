{
 "cells": [
  {
   "cell_type": "code",
   "execution_count": 2,
   "metadata": {},
   "outputs": [
    {
     "data": {
      "application/vnd.jupyter.widget-view+json": {
       "model_id": "7c6df4f2049c4972b077eb1d3a8f809a",
       "version_major": 2,
       "version_minor": 0
      },
      "text/plain": [
       "GridBox(children=(Dropdown(description='Type Selector', layout=Layout(width='200px'), options=(('', ''), ('Rev…"
      ]
     },
     "metadata": {},
     "output_type": "display_data"
    },
    {
     "name": "stdout",
     "output_type": "stream",
     "text": [
      "Captured output: {'budget': 0.0, 'runtime': 0.0, 'genres_0_name': '', 'genres_1_name': '', 'genres_2_name': ''}\n",
      "revenue\n",
      "Value to predict: [{'budget': 0.0, 'runtime': 0.0, 'genres_0_name': '', 'genres_1_name': '', 'genres_2_name': '', 'type_selector': 'revenue'}], dependent_var: revenue, columns_to_drop: ['profit', 'roi', 'revenue', 'vote_average'], random_state: 0\n",
      "\n"
     ]
    }
   ],
   "source": [
    "import ipywidgets as widgets\n",
    "from IPython.display import display\n",
    "from ipywidgets import Layout, GridBox\n",
    "from model_lib import run_on_rfc_model\n",
    "import io\n",
    "import sys\n",
    "\n",
    "def on_value_change(change):\n",
    "  old_stdout = sys.stdout\n",
    "  sys.stdout = buffer = io.StringIO()\n",
    "  \n",
    "  selected_values = {column: selectors[column].value for column in selector_columns}\n",
    "  print(selected_values)\n",
    "  print(selectors['type_selector'].value)\n",
    "  selected_values['type_selector'] = type_selector.value\n",
    "\n",
    "  run_on_rfc_model([selected_values], selectors['type_selector'].value, ['profit', 'roi', 'vote_average', 'popularity'])\n",
    "\n",
    "  # Restore the original stdout\n",
    "  sys.stdout = old_stdout\n",
    "\n",
    "  # Get the captured output\n",
    "  output = buffer.getvalue()\n",
    "  print(\"Captured output:\", output)\n",
    "\n",
    "\n",
    "\n",
    "type_selector_options = ['', 'revenue', 'popularity', 'vote_average']\n",
    "selector_columns = ['budget', 'runtime', 'genres_0_name', 'genres_1_name', 'genres_2_name']\n",
    "genre_options = ['', 'Animation', 'Action', 'Science Fiction', 'Horror', 'Comedy',\n",
    "       'Drama', 'Romance', 'Fantasy', 'Thriller', 'Crime', 'TV Movie',\n",
    "       'Family', 'Adventure', 'War', 'Mystery', 'Documentary', 'History',\n",
    "       'Western', 'Music']\n",
    "\n",
    "\n",
    "selectors = {}\n",
    "for column in selector_columns:\n",
    "  if 'genres' in column:\n",
    "    genre_index = int(column.split('_')[1]) + 1\n",
    "    selectors[column] = widgets.Dropdown(\n",
    "      options=genre_options,\n",
    "      description=f'Genre {genre_index}',\n",
    "      disabled=False,\n",
    "      layout=Layout(width='200px'),\n",
    "      id=column\n",
    "    )\n",
    "  else:\n",
    "    selectors[column] = widgets.FloatText(\n",
    "      description=column.capitalize(),\n",
    "      disabled=False,\n",
    "      layout=Layout(width='200px'),\n",
    "      id=column\n",
    "    )\n",
    "\n",
    "type_selector = widgets.Dropdown(\n",
    "  options=type_selector_options,\n",
    "  description='Type Selector',\n",
    "  disabled=False,\n",
    "  layout=Layout(width='200px')\n",
    ")\n",
    "\n",
    "type_selector.options = [(option.replace('_', ' ').capitalize(), option) for option in type_selector_options]\n",
    "selectors['type_selector'] = type_selector\n",
    "\n",
    "grid = GridBox(\n",
    "  children= [type_selector] + [selectors[column] for column in selector_columns],\n",
    "  layout=Layout(\n",
    "    width='100%',\n",
    "    grid_template_columns='repeat(3, 200px)',\n",
    "    grid_gap='10px 10px'\n",
    "  )\n",
    ")\n",
    "\n",
    "display(grid)\n",
    "\n",
    "selected_values = {column: selectors[column].value for column in selector_columns}\n",
    "\n",
    "for selector in selectors.values():\n",
    "  selector.observe(lambda change: on_value_change(change), names='value')"
   ]
  }
 ],
 "metadata": {
  "kernelspec": {
   "display_name": "py310",
   "language": "python",
   "name": "python3"
  },
  "language_info": {
   "codemirror_mode": {
    "name": "ipython",
    "version": 3
   },
   "file_extension": ".py",
   "mimetype": "text/x-python",
   "name": "python",
   "nbconvert_exporter": "python",
   "pygments_lexer": "ipython3",
   "version": "3.10.13"
  }
 },
 "nbformat": 4,
 "nbformat_minor": 2
}
