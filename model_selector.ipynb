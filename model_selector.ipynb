{
 "cells": [
  {
   "cell_type": "code",
   "execution_count": 30,
   "metadata": {},
   "outputs": [
    {
     "data": {
      "application/vnd.jupyter.widget-view+json": {
       "model_id": "faf515526dfd4eda99d1979ea50ca43a",
       "version_major": 2,
       "version_minor": 0
      },
      "text/plain": [
       "GridBox(children=(Dropdown(description='Type Selector', layout=Layout(width='200px'), options=(('Revenue', 're…"
      ]
     },
     "metadata": {},
     "output_type": "display_data"
    },
    {
     "name": "stdout",
     "output_type": "stream",
     "text": [
      "{'name': 'value', 'old': 'revenue', 'new': 'popularity', 'owner': Dropdown(description='Type Selector', index=1, layout=Layout(width='200px'), options=(('Revenue', 'revenue'), ('Popularity', 'popularity'), ('Vote average', 'vote_average')), value='popularity'), 'type': 'change'}\n",
      "{'budget': 0.0, 'runtime': 0.0, 'genres_0_name': 'Option 1', 'genres_1_name': 'Option 1', 'genres_2_name': 'Option 1'}\n",
      "popularity\n",
      "{'name': 'value', 'old': 'popularity', 'new': 'vote_average', 'owner': Dropdown(description='Type Selector', index=2, layout=Layout(width='200px'), options=(('Revenue', 'revenue'), ('Popularity', 'popularity'), ('Vote average', 'vote_average')), value='vote_average'), 'type': 'change'}\n",
      "{'budget': 0.0, 'runtime': 0.0, 'genres_0_name': 'Option 1', 'genres_1_name': 'Option 1', 'genres_2_name': 'Option 1'}\n",
      "vote_average\n"
     ]
    }
   ],
   "source": [
    "import ipywidgets as widgets\n",
    "from IPython.display import display\n",
    "from ipywidgets import Layout, GridBox\n",
    "from model_lib import run_on_rfc_model\n",
    "\n",
    "def on_value_change(change):\n",
    "  print(change)\n",
    "  selected_values = {column: selectors[column].value for column in selector_columns}\n",
    "  print(selected_values)\n",
    "  print(selectors['type_selector'].value)\n",
    "  selected_values['type_selector'] = type_selector.value\n",
    "  run_on_rfc_model(selected_values, selectors['type_selector'].value, ['profit', 'roi', 'revenue', 'vote_average'])\n",
    "\n",
    "type_selector_columns = ['revenue', 'popularity', 'vote_average']\n",
    "selector_columns = ['budget', 'runtime', 'genres_0_name', 'genres_1_name', 'genres_2_name']\n",
    "\n",
    "selectors = {}\n",
    "for column in selector_columns:\n",
    "  if 'genres' in column:\n",
    "    genre_index = int(column.split('_')[1]) + 1\n",
    "    selectors[column] = widgets.Dropdown(\n",
    "      options=['Option 1', 'Option 2', 'Option 3'],\n",
    "      description=f'Genre {genre_index}',\n",
    "      disabled=False,\n",
    "      layout=Layout(width='200px'),\n",
    "      id=column\n",
    "    )\n",
    "  else:\n",
    "    selectors[column] = widgets.FloatText(\n",
    "      description=column.capitalize(),\n",
    "      disabled=False,\n",
    "      layout=Layout(width='200px'),\n",
    "      id=column\n",
    "    )\n",
    "\n",
    "type_selector = widgets.Dropdown(\n",
    "  options=type_selector_columns,\n",
    "  description='Type Selector',\n",
    "  disabled=False,\n",
    "  layout=Layout(width='200px')\n",
    ")\n",
    "\n",
    "type_selector.options = [(option.replace('_', ' ').capitalize(), option) for option in type_selector_columns]\n",
    "selectors['type_selector'] = type_selector\n",
    "\n",
    "grid = GridBox(\n",
    "  children= [type_selector] + [selectors[column] for column in selector_columns],\n",
    "  layout=Layout(\n",
    "    width='100%',\n",
    "    grid_template_columns='repeat(3, 200px)',\n",
    "    grid_gap='10px 10px'\n",
    "  )\n",
    ")\n",
    "\n",
    "display(grid)\n",
    "\n",
    "selected_values = {column: selectors[column].value for column in selector_columns}\n",
    "\n",
    "for selector in selectors.values():\n",
    "  selector.observe(lambda change: on_value_change(change), names='value')"
   ]
  },
  {
   "cell_type": "code",
   "execution_count": 16,
   "metadata": {},
   "outputs": [
    {
     "data": {
      "text/plain": [
       "{'budget': 0.0,\n",
       " 'runtime': 0.0,\n",
       " 'genres_0_name': 'Option 1',\n",
       " 'genres_1_name': 'Option 1',\n",
       " 'genres_2_name': 'Option 1'}"
      ]
     },
     "execution_count": 16,
     "metadata": {},
     "output_type": "execute_result"
    }
   ],
   "source": [
    "\n",
    "\n"
   ]
  }
 ],
 "metadata": {
  "kernelspec": {
   "display_name": "py310",
   "language": "python",
   "name": "python3"
  },
  "language_info": {
   "codemirror_mode": {
    "name": "ipython",
    "version": 3
   },
   "file_extension": ".py",
   "mimetype": "text/x-python",
   "name": "python",
   "nbconvert_exporter": "python",
   "pygments_lexer": "ipython3",
   "version": "3.10.13"
  }
 },
 "nbformat": 4,
 "nbformat_minor": 2
}
