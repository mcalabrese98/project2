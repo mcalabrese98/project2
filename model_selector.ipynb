{
 "cells": [
  {
   "cell_type": "code",
   "execution_count": 3,
   "metadata": {},
   "outputs": [],
   "source": [
    "import ipywidgets as widgets\n",
    "from IPython.display import display\n",
    "from ipywidgets import Layout, GridBox\n",
    "from lib.model_lib import run_on_rfc_model\n",
    "import io\n",
    "import sys"
   ]
  },
  {
   "cell_type": "markdown",
   "metadata": {},
   "source": [
    "We created a function that calls run_on_rfc_model function to generate results for each dependent variable"
   ]
  },
  {
   "cell_type": "code",
   "execution_count": 4,
   "metadata": {},
   "outputs": [],
   "source": [
    "'''\n",
    "  On button click, get the selected values from the selectors and run the model\n",
    "'''\n",
    "def on_button_click(b):\n",
    "  old_stdout = sys.stdout\n",
    "  sys.stdout = buffer = io.StringIO()\n",
    "  \n",
    "  # Get the selected values from the selectors\n",
    "  selected_values = {column: selectors[column].value for column in selector_columns}\n",
    "  print(selected_values)\n",
    "  print(selectors['type_selector'].value)\n",
    "  selected_values['type_selector'] = type_selector.value\n",
    "\n",
    "  # Remove the columns that are not needed for the selected type\n",
    "  columns_to_remove = ['roi', 'profit']\n",
    "  match selectors['type_selector'].value:\n",
    "    case 'revenue':\n",
    "      columns_to_remove = columns_to_remove + ['vote_average', 'popularity']\n",
    "    case 'popularity':\n",
    "      columns_to_remove = columns_to_remove + ['revenue', 'vote_average']\n",
    "    case 'vote_average':\n",
    "      columns_to_remove = columns_to_remove + ['popularity', 'revenue']\n",
    "\n",
    "  # Run the model\n",
    "  run_on_rfc_model([selected_values], selectors['type_selector'].value, columns_to_remove)\n",
    "\n",
    "  # Restore the original stdout\n",
    "  sys.stdout = old_stdout\n",
    "\n",
    "  # Get the captured output\n",
    "  output = buffer.getvalue()\n",
    "  print(\"Captured output:\", output)"
   ]
  },
  {
   "cell_type": "markdown",
   "metadata": {},
   "source": [
    "We identified the different options and the columns to use for field values"
   ]
  },
  {
   "cell_type": "code",
   "execution_count": 5,
   "metadata": {},
   "outputs": [],
   "source": [
    "# Create the selectors\n",
    "type_selector_options = ['', 'revenue', 'popularity', 'vote_average']\n",
    "selector_columns = ['budget', 'runtime', 'genres_0_name', 'genres_1_name', 'genres_2_name']\n",
    "genre_options = ['', 'Animation', 'Action', 'Science Fiction', 'Horror', 'Comedy', 'Drama', 'Romance', 'Fantasy', 'Thriller', 'Crime', 'TV Movie', 'Family', 'Adventure', 'War', 'Mystery', 'Documentary', 'History', 'Western', 'Music']"
   ]
  },
  {
   "cell_type": "markdown",
   "metadata": {},
   "source": [
    "We added the different fields and to the widget to display."
   ]
  },
  {
   "cell_type": "code",
   "execution_count": null,
   "metadata": {},
   "outputs": [],
   "source": [
    "# Create the selectors, fields and button\n",
    "selectors = {}\n",
    "for column in selector_columns:\n",
    "  if 'genres' in column:\n",
    "    genre_index = int(column.split('_')[1]) + 1\n",
    "    selectors[column] = widgets.Dropdown(\n",
    "      options=genre_options,\n",
    "      description=f'Genre {genre_index}',\n",
    "      disabled=False,\n",
    "      layout=Layout(width='200px'),\n",
    "      id=column\n",
    "    )\n",
    "  else:\n",
    "    selectors[column] = widgets.FloatText(\n",
    "      description=column.capitalize(),\n",
    "      disabled=False,\n",
    "      layout=Layout(width='200px'),\n",
    "      id=column\n",
    "    )\n",
    "\n",
    "type_selector = widgets.Dropdown(\n",
    "  options=type_selector_options,\n",
    "  description='Type Selector',\n",
    "  disabled=False,\n",
    "  layout=Layout(width='200px')\n",
    ")\n",
    "\n",
    "type_selector.options = [(option.replace('_', ' ').capitalize(), option) for option in type_selector_options]\n",
    "selectors['type_selector'] = type_selector\n",
    "\n",
    "predict_button = widgets.Button(\n",
    "  description='Predict',\n",
    "  disabled=False,\n",
    "  button_style='success',  # 'success', 'info', 'warning', 'danger' or ''\n",
    "  tooltip='Click to predict',\n",
    "  icon='check'  # (FontAwesome names without the `fa-` prefix)\n",
    ")\n",
    "\n",
    "# Add the button click event\n",
    "predict_button.on_click(on_button_click)\n",
    "\n",
    "# Display the selectors and button\n",
    "grid = GridBox(\n",
    "  children= [type_selector] + [selectors[column] for column in selector_columns] + [predict_button],\n",
    "  layout=Layout(\n",
    "    width='100%',\n",
    "    grid_template_columns='repeat(3, 200px)',\n",
    "    grid_gap='10px 10px'\n",
    "  )\n",
    ")\n",
    "\n",
    "# Display the grid\n",
    "display(grid)\n",
    "\n",
    "# Get the selected values from the selectors\n",
    "selected_values = {column: selectors[column].value for column in selector_columns}"
   ]
  }
 ],
 "metadata": {
  "kernelspec": {
   "display_name": "py310",
   "language": "python",
   "name": "python3"
  },
  "language_info": {
   "codemirror_mode": {
    "name": "ipython",
    "version": 3
   },
   "file_extension": ".py",
   "mimetype": "text/x-python",
   "name": "python",
   "nbconvert_exporter": "python",
   "pygments_lexer": "ipython3",
   "version": "3.10.13"
  }
 },
 "nbformat": 4,
 "nbformat_minor": 2
}
