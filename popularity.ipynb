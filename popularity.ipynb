{
 "cells": [
  {
   "cell_type": "code",
   "execution_count": 121,
   "metadata": {},
   "outputs": [],
   "source": [
    "from pathlib import Path\n",
    "from sklearn.ensemble import RandomForestClassifier\n",
    "import pandas as pd\n",
    "from sklearn.metrics import balanced_accuracy_score, classification_report, confusion_matrix\n",
    "import seaborn as sns\n",
    "import matplotlib.pyplot as plt"
   ]
  },
  {
   "cell_type": "code",
   "execution_count": 122,
   "metadata": {},
   "outputs": [],
   "source": [
    "movie_data_train_path = Path(\"movie_data_train.csv\")\n",
    "movie_data_test_path = Path(\"movie_data_test.csv\")\n",
    "\n",
    "movie_data_train_df = pd.read_csv(movie_data_train_path)\n",
    "movie_data_test_df = pd.read_csv(movie_data_test_path)\n",
    "\n",
    "y_train = movie_data_train_df[\"popularity\"]\n",
    "X_train = movie_data_train_df.drop(columns=[\"popularity\", \"profit\", \"roi\", \"revenue\", \"vote_average\"])\n",
    "\n",
    "y_test = movie_data_test_df[\"popularity\"]\n",
    "X_test = movie_data_test_df.drop(columns=[\"popularity\", \"profit\", \"roi\", \"revenue\", \"vote_average\"])\n",
    "\n",
    "median_train_value = y_train.median()\n",
    "y_train = y_train.apply(lambda x: 1 if x > median_train_value else 0)\n",
    "\n",
    "median_test_value = y_test.median()\n",
    "y_test = y_test.apply(lambda x: 1 if x > median_test_value else 0)\n",
    "\n"
   ]
  },
  {
   "cell_type": "code",
   "execution_count": 123,
   "metadata": {},
   "outputs": [
    {
     "data": {
      "text/html": [
       "<div>\n",
       "<style scoped>\n",
       "    .dataframe tbody tr th:only-of-type {\n",
       "        vertical-align: middle;\n",
       "    }\n",
       "\n",
       "    .dataframe tbody tr th {\n",
       "        vertical-align: top;\n",
       "    }\n",
       "\n",
       "    .dataframe thead th {\n",
       "        text-align: right;\n",
       "    }\n",
       "</style>\n",
       "<table border=\"1\" class=\"dataframe\">\n",
       "  <thead>\n",
       "    <tr style=\"text-align: right;\">\n",
       "      <th></th>\n",
       "      <th>budget</th>\n",
       "      <th>runtime</th>\n",
       "      <th>genres_0_name_Action</th>\n",
       "      <th>genres_0_name_Adventure</th>\n",
       "      <th>genres_0_name_Animation</th>\n",
       "      <th>genres_0_name_Comedy</th>\n",
       "      <th>genres_0_name_Crime</th>\n",
       "      <th>genres_0_name_Documentary</th>\n",
       "      <th>genres_0_name_Drama</th>\n",
       "      <th>genres_0_name_Family</th>\n",
       "      <th>...</th>\n",
       "      <th>genres_2_name_History</th>\n",
       "      <th>genres_2_name_Horror</th>\n",
       "      <th>genres_2_name_Music</th>\n",
       "      <th>genres_2_name_Mystery</th>\n",
       "      <th>genres_2_name_Romance</th>\n",
       "      <th>genres_2_name_Science Fiction</th>\n",
       "      <th>genres_2_name_TV Movie</th>\n",
       "      <th>genres_2_name_Thriller</th>\n",
       "      <th>genres_2_name_War</th>\n",
       "      <th>genres_2_name_Western</th>\n",
       "    </tr>\n",
       "  </thead>\n",
       "  <tbody>\n",
       "    <tr>\n",
       "      <th>0</th>\n",
       "      <td>9000000.0</td>\n",
       "      <td>125.0</td>\n",
       "      <td>0.0</td>\n",
       "      <td>0.0</td>\n",
       "      <td>0.0</td>\n",
       "      <td>0.0</td>\n",
       "      <td>0.0</td>\n",
       "      <td>0.0</td>\n",
       "      <td>0.0</td>\n",
       "      <td>0.0</td>\n",
       "      <td>...</td>\n",
       "      <td>0.0</td>\n",
       "      <td>0.0</td>\n",
       "      <td>0.0</td>\n",
       "      <td>0.0</td>\n",
       "      <td>0.0</td>\n",
       "      <td>0.0</td>\n",
       "      <td>0.0</td>\n",
       "      <td>1.0</td>\n",
       "      <td>0.0</td>\n",
       "      <td>0.0</td>\n",
       "    </tr>\n",
       "    <tr>\n",
       "      <th>1</th>\n",
       "      <td>1200000.0</td>\n",
       "      <td>96.0</td>\n",
       "      <td>0.0</td>\n",
       "      <td>0.0</td>\n",
       "      <td>0.0</td>\n",
       "      <td>0.0</td>\n",
       "      <td>0.0</td>\n",
       "      <td>0.0</td>\n",
       "      <td>0.0</td>\n",
       "      <td>0.0</td>\n",
       "      <td>...</td>\n",
       "      <td>0.0</td>\n",
       "      <td>0.0</td>\n",
       "      <td>0.0</td>\n",
       "      <td>0.0</td>\n",
       "      <td>0.0</td>\n",
       "      <td>0.0</td>\n",
       "      <td>0.0</td>\n",
       "      <td>0.0</td>\n",
       "      <td>0.0</td>\n",
       "      <td>0.0</td>\n",
       "    </tr>\n",
       "    <tr>\n",
       "      <th>2</th>\n",
       "      <td>15000000.0</td>\n",
       "      <td>100.0</td>\n",
       "      <td>0.0</td>\n",
       "      <td>0.0</td>\n",
       "      <td>0.0</td>\n",
       "      <td>1.0</td>\n",
       "      <td>0.0</td>\n",
       "      <td>0.0</td>\n",
       "      <td>0.0</td>\n",
       "      <td>0.0</td>\n",
       "      <td>...</td>\n",
       "      <td>0.0</td>\n",
       "      <td>0.0</td>\n",
       "      <td>0.0</td>\n",
       "      <td>0.0</td>\n",
       "      <td>0.0</td>\n",
       "      <td>0.0</td>\n",
       "      <td>0.0</td>\n",
       "      <td>0.0</td>\n",
       "      <td>0.0</td>\n",
       "      <td>0.0</td>\n",
       "    </tr>\n",
       "    <tr>\n",
       "      <th>3</th>\n",
       "      <td>6000000.0</td>\n",
       "      <td>94.0</td>\n",
       "      <td>0.0</td>\n",
       "      <td>0.0</td>\n",
       "      <td>0.0</td>\n",
       "      <td>1.0</td>\n",
       "      <td>0.0</td>\n",
       "      <td>0.0</td>\n",
       "      <td>0.0</td>\n",
       "      <td>0.0</td>\n",
       "      <td>...</td>\n",
       "      <td>0.0</td>\n",
       "      <td>0.0</td>\n",
       "      <td>0.0</td>\n",
       "      <td>0.0</td>\n",
       "      <td>0.0</td>\n",
       "      <td>0.0</td>\n",
       "      <td>0.0</td>\n",
       "      <td>0.0</td>\n",
       "      <td>0.0</td>\n",
       "      <td>0.0</td>\n",
       "    </tr>\n",
       "    <tr>\n",
       "      <th>4</th>\n",
       "      <td>80000000.0</td>\n",
       "      <td>117.0</td>\n",
       "      <td>0.0</td>\n",
       "      <td>0.0</td>\n",
       "      <td>0.0</td>\n",
       "      <td>1.0</td>\n",
       "      <td>0.0</td>\n",
       "      <td>0.0</td>\n",
       "      <td>0.0</td>\n",
       "      <td>0.0</td>\n",
       "      <td>...</td>\n",
       "      <td>0.0</td>\n",
       "      <td>0.0</td>\n",
       "      <td>0.0</td>\n",
       "      <td>0.0</td>\n",
       "      <td>0.0</td>\n",
       "      <td>0.0</td>\n",
       "      <td>0.0</td>\n",
       "      <td>0.0</td>\n",
       "      <td>0.0</td>\n",
       "      <td>0.0</td>\n",
       "    </tr>\n",
       "  </tbody>\n",
       "</table>\n",
       "<p>5 rows × 63 columns</p>\n",
       "</div>"
      ],
      "text/plain": [
       "       budget  runtime  genres_0_name_Action  genres_0_name_Adventure  \\\n",
       "0   9000000.0    125.0                   0.0                      0.0   \n",
       "1   1200000.0     96.0                   0.0                      0.0   \n",
       "2  15000000.0    100.0                   0.0                      0.0   \n",
       "3   6000000.0     94.0                   0.0                      0.0   \n",
       "4  80000000.0    117.0                   0.0                      0.0   \n",
       "\n",
       "   genres_0_name_Animation  genres_0_name_Comedy  genres_0_name_Crime  \\\n",
       "0                      0.0                   0.0                  0.0   \n",
       "1                      0.0                   0.0                  0.0   \n",
       "2                      0.0                   1.0                  0.0   \n",
       "3                      0.0                   1.0                  0.0   \n",
       "4                      0.0                   1.0                  0.0   \n",
       "\n",
       "   genres_0_name_Documentary  genres_0_name_Drama  genres_0_name_Family  ...  \\\n",
       "0                        0.0                  0.0                   0.0  ...   \n",
       "1                        0.0                  0.0                   0.0  ...   \n",
       "2                        0.0                  0.0                   0.0  ...   \n",
       "3                        0.0                  0.0                   0.0  ...   \n",
       "4                        0.0                  0.0                   0.0  ...   \n",
       "\n",
       "   genres_2_name_History  genres_2_name_Horror  genres_2_name_Music  \\\n",
       "0                    0.0                   0.0                  0.0   \n",
       "1                    0.0                   0.0                  0.0   \n",
       "2                    0.0                   0.0                  0.0   \n",
       "3                    0.0                   0.0                  0.0   \n",
       "4                    0.0                   0.0                  0.0   \n",
       "\n",
       "   genres_2_name_Mystery  genres_2_name_Romance  \\\n",
       "0                    0.0                    0.0   \n",
       "1                    0.0                    0.0   \n",
       "2                    0.0                    0.0   \n",
       "3                    0.0                    0.0   \n",
       "4                    0.0                    0.0   \n",
       "\n",
       "   genres_2_name_Science Fiction  genres_2_name_TV Movie  \\\n",
       "0                            0.0                     0.0   \n",
       "1                            0.0                     0.0   \n",
       "2                            0.0                     0.0   \n",
       "3                            0.0                     0.0   \n",
       "4                            0.0                     0.0   \n",
       "\n",
       "   genres_2_name_Thriller  genres_2_name_War  genres_2_name_Western  \n",
       "0                     1.0                0.0                    0.0  \n",
       "1                     0.0                0.0                    0.0  \n",
       "2                     0.0                0.0                    0.0  \n",
       "3                     0.0                0.0                    0.0  \n",
       "4                     0.0                0.0                    0.0  \n",
       "\n",
       "[5 rows x 63 columns]"
      ]
     },
     "execution_count": 123,
     "metadata": {},
     "output_type": "execute_result"
    }
   ],
   "source": [
    "X_train.head()\n"
   ]
  },
  {
   "cell_type": "code",
   "execution_count": 124,
   "metadata": {},
   "outputs": [
    {
     "name": "stdout",
     "output_type": "stream",
     "text": [
      "0.6418165045811314\n"
     ]
    }
   ],
   "source": [
    "clf = RandomForestClassifier(n_estimators=100, max_depth=10, random_state=42)\n",
    "\n",
    "clf.fit(X_train, y_train)\n",
    "\n",
    "y_test_pred = clf.predict(X_test)\n",
    "\n",
    "print(balanced_accuracy_score(y_test, y_test_pred))\n"
   ]
  },
  {
   "cell_type": "code",
   "execution_count": 125,
   "metadata": {},
   "outputs": [
    {
     "name": "stdout",
     "output_type": "stream",
     "text": [
      "              precision    recall  f1-score   support\n",
      "\n",
      "           0       0.62      0.75      0.68       566\n",
      "           1       0.68      0.54      0.60       565\n",
      "\n",
      "    accuracy                           0.64      1131\n",
      "   macro avg       0.65      0.64      0.64      1131\n",
      "weighted avg       0.65      0.64      0.64      1131\n",
      "\n"
     ]
    }
   ],
   "source": [
    "print(classification_report(y_test, y_test_pred))\n",
    "#movie_conf_matrix"
   ]
  },
  {
   "cell_type": "code",
   "execution_count": 126,
   "metadata": {},
   "outputs": [
    {
     "data": {
      "image/png": "[encoded data removed]",
      "text/plain": [
       "<Figure size 800x600 with 2 Axes>"
      ]
     },
     "metadata": {},
     "output_type": "display_data"
    }
   ],
   "source": [
    "# Generate the confusion matrix\n",
    "conf_matrix = confusion_matrix(y_test, y_test_pred, labels=[1, 0])\n",
    "\n",
    "# Plot the confusion matrix\n",
    "plt.figure(figsize=(8, 6))\n",
    "sns.heatmap(conf_matrix, annot=True, fmt='d', cmap='Blues', \n",
    "            xticklabels=['Predicted High', 'Predicted Low'], \n",
    "            yticklabels=['Actual High', 'Actual Low'])\n",
    "plt.title(\"Confusion Matrix for Random Forest Classification\")\n",
    "plt.xlabel(\"Predicted Labels\")\n",
    "plt.ylabel(\"Actual Labels\")\n",
    "plt.show()"
   ]
  },
  {
   "cell_type": "code",
   "execution_count": 127,
   "metadata": {},
   "outputs": [
    {
     "data": {
      "text/plain": [
       "[(0.421663899794958, 'budget'),\n",
       " (0.17334586553233347, 'runtime'),\n",
       " (0.030042684932390065, 'genres_0_name_Drama'),\n",
       " (0.023524165594413976, 'genres_0_name_Horror'),\n",
       " (0.01787641083731764, 'genres_0_name_Animation'),\n",
       " (0.01671229134847435, 'genres_2_name_Fantasy'),\n",
       " (0.016406184591058602, 'genres_2_name_Science Fiction'),\n",
       " (0.014814420990908978, 'genres_1_name_Drama'),\n",
       " (0.014295981245224383, 'genres_1_name_Thriller'),\n",
       " (0.013380753514591436, 'genres_1_name_Action'),\n",
       " (0.011662709792968897, 'genres_0_name_Adventure'),\n",
       " (0.011421376153437877, 'genres_2_name_Adventure'),\n",
       " (0.010960731884378119, 'genres_1_name_nan'),\n",
       " (0.010783704290694557, 'genres_0_name_Thriller')]"
      ]
     },
     "execution_count": 127,
     "metadata": {},
     "output_type": "execute_result"
    }
   ],
   "source": [
    "feature_importances = clf.feature_importances_\n",
    "importances_sorted = sorted(zip(feature_importances, X_test), reverse=True)\n",
    "importances_sorted[:14]"
   ]
  },
  {
   "cell_type": "code",
   "execution_count": 128,
   "metadata": {},
   "outputs": [
    {
     "data": {
      "text/plain": [
       "<Axes: xlabel='max_depth'>"
      ]
     },
     "execution_count": 128,
     "metadata": {},
     "output_type": "execute_result"
    },
    {
     "data": {
      "image/png": "[encoded data removed]",
      "text/plain": [
       "<Figure size 640x480 with 1 Axes>"
      ]
     },
     "metadata": {},
     "output_type": "display_data"
    }
   ],
   "source": [
    "models = {'train_score': [], 'test_score': [], 'max_depth': []}\n",
    "\n",
    "for depth in range(1,10):\n",
    "    models['max_depth'].append(depth)\n",
    "    model = RandomForestClassifier(n_estimators=500, max_depth=depth)\n",
    "    model.fit(X_train, y_train)\n",
    "    y_test_pred = model.predict(X_test)\n",
    "    y_train_pred = model.predict(X_train)\n",
    "\n",
    "    models['train_score'].append(balanced_accuracy_score(y_train, y_train_pred))\n",
    "    models['test_score'].append(balanced_accuracy_score(y_test, y_test_pred))\n",
    "\n",
    "models_df = pd.DataFrame(models)\n",
    "\n",
    "models_df.plot(x='max_depth')"
   ]
  }
 ],
 "metadata": {
  "kernelspec": {
   "display_name": "py310",
   "language": "python",
   "name": "python3"
  },
  "language_info": {
   "codemirror_mode": {
    "name": "ipython",
    "version": 3
   },
   "file_extension": ".py",
   "mimetype": "text/x-python",
   "name": "python",
   "nbconvert_exporter": "python",
   "pygments_lexer": "ipython3",
   "version": "3.10.13"
  }
 },
 "nbformat": 4,
 "nbformat_minor": 2
}
